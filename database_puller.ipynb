{
 "cells": [
  {
   "cell_type": "code",
   "execution_count": 2,
   "metadata": {},
   "outputs": [],
   "source": [
    "import pandas as pd\n",
    "import pyodbc\n",
    "import sqlalchemy"
   ]
  },
   "source": [
    "# Defining SQL Server connection details\n",
    "db_e = ''\n",
    "\n",
    "server = ''"
   ]
  },
  {
   "cell_type": "code",
   "execution_count": 4,
   "metadata": {},
   "outputs": [],
   "source": [
    "# Defining the connection string and creating an engine for each DB\n",
    "conn_str = f'mssql+pyodbc://{server}/{db_e}?driver=SQL Server'\n",
    "\n",
    "engine_e = sqlalchemy.create_engine(conn_str)"
   ]
  },
  {
   "cell_type": "markdown",
   "metadata": {},
   "source": [
    "### Resource Annual"
   ]
  },
  {
   "cell_type": "code",
   "execution_count": null,
   "metadata": {},
   "outputs": [],
   "source": [
    "ann_totals = \"\"\" \n",
    "    SELECT \n",
    "        Availability, [Unit Hours Online], [Unit Starts], [Capacity Factor], Profitability,  \n",
    "        [Total Production Cost], [Average Production Cost], Date, ScenarioID, RunID, ObjectID \n",
    "    FROM  \n",
    "        ScenarioResourceAnnualTotals; \n",
    "\"\"\" \n",
    "with engine_e.connect() as connection: \n",
    "    scenario_resource_annual_export = pd.read_sql('SELECT * FROM ScenarioResourceAnnualExport', connection) \n",
    "    scenario_resource_annual_totals = pd.read_sql(ann_totals, connection) \n",
    "\n",
    "scenario_resource_annual_totals['Year'] = pd.to_datetime(scenario_resource_annual_totals['Date']).dt.year \n",
    "\n",
    "merged_df = pd.merge( \n",
    "    scenario_resource_annual_export, \n",
    "    scenario_resource_annual_totals, \n",
    "    left_on=['ScenarioID', 'Year', 'RunID', 'ObjectID'], \n",
    "    right_on=['ScenarioID', 'Year', 'RunID', 'ObjectID'] \n",
    ") \n",
    "\n",
    "# Select our desired columns\n",
    "desired_cols = ['Scenario', 'RunID', 'BA', 'Area', 'Type', 'Resource', 'Year', 'NumUnits', 'MaxCap', 'FirmCapMW', \n",
    "                'Availability', 'Generation', 'Capacity Factor', 'EnergyReq', 'Curtailed', 'HoursMarg', \n",
    "                'Unit Hours Online', 'Unit Starts', 'TotalHeat', 'FuelCost', 'CommitCost', 'FixedCost', \n",
    "                'TotalCost', 'EnMktValue', 'AncMkValue', 'CapBid', 'CapValue', 'Profitability', 'ExternCost', 'DispHeat'\n",
    "]\n",
    "\n",
    "df = merged_df.loc[:, desired_cols]\n",
    "\n",
    "df[['DispHeat', 'Generation', 'FuelCost', 'TotalCost', 'FixedCost']] = df[['DispHeat', 'Generation', 'FuelCost', 'TotalCost', 'FixedCost']].fillna(0)\n",
    "\n",
    "# Computing necessary columns\n",
    "df['Average Heat Rate'] = df.apply(lambda row: row['DispHeat'] / row['Generation'] if row['Generation'] != 0 else 0, axis=1)\n",
    "df['Average Fuel Cost'] = df.apply(lambda row: (row['FuelCost'] / row['Generation']) * 1000 if row['Generation'] != 0 else 0, axis=1)\n",
    "\n",
    "\n",
    "df['Total Energy Cost'] = df['TotalCost'] - df['FixedCost']\n",
    "df['Average Energy Cost'] = df.apply(lambda row: (row['Total Energy Cost'] / row['Generation']) if row['Generation'] != 0 else 0, axis=1)\n",
    "\n",
    "df = df.drop('DispHeat', axis=1)\n",
    "\n",
    "df.to_excel('resource_annual.xlsx', index=False)\n",
    "## notes for where I left off\n",
    "# Pretty much got Resource Annual done, but need to look into Program Costs and Non-Fuel Var Cost\n",
    "# Column renaming (trivial but annoying will do later)\n",
    "# time down from >9min to ~1 min"
   ]
  },
  {
   "cell_type": "markdown",
   "metadata": {},
   "source": [
    "### Resource Annual Fuel"
   ]
  },
  {
   "cell_type": "code",
   "execution_count": null,
   "metadata": {},
   "outputs": [],
   "source": [
    "# Pulling the entire table from the database\n",
    "with engine_e.connect() as connection:\n",
    "    df = pd.read_sql('SELECT * FROM ScenarioResourceMonthlyFuel', connection)\n",
    "\n",
    "# Creating a column for the year based on the date given\n",
    "df['Year'] = pd.to_datetime(df['Date']).dt.year \n",
    "df = df.drop('Date', axis=1)\n",
    "\n",
    "group_cols = [ 'ScenarioID', 'Scenario', 'ObjectID', 'RunID', 'BA', \n",
    "                'Area', 'Type', 'Resource', 'Year', 'Fuel' ]\n",
    "\n",
    "# Performing aggregations to get annual totals\n",
    "df = df.groupby(group_cols, as_index=False).agg({'Generation': 'sum',\n",
    "                            'Consumption': 'sum',\n",
    "                            'Delivered Cost': 'sum'})\n",
    "\n",
    "df = df.drop(['ScenarioID', 'ObjectID'], axis=1)\n",
    "\n",
    "df['Average Cost ($/FUnit)'] = df.apply(lambda row: (row['Delivered Cost'] / row['Consumption']) * 1000 if row['Consumption'] != 0 else 0, axis=1)\n",
    "\n",
    "df.sort_values('Year', ascending=True, inplace=True)\n",
    "df.rename(columns={'Delivered Cost': 'Delivered Cost ($000)', 'Generation': 'Generation (GWh)', 'Consumption': 'Consumption (FUnits)'}, inplace=True)\n",
    "\n",
    "df.to_excel('resource_annual_fuel.xlsx', index=False)"
   ]
  },
  {
   "cell_type": "markdown",
   "metadata": {},
   "source": [
    "### Resource Annual Emissions"
   ]
  },
  {
   "cell_type": "code",
   "execution_count": 23,
   "metadata": {},
   "outputs": [],
   "source": [
    "# Pulling the entire table from the database\n",
    "with engine_e.connect() as connection:\n",
    "    df = pd.read_sql('SELECT * From ScenarioResourceMonthlyEmission', connection)\n",
    "\n",
    "df['Year'] = pd.to_datetime(df['Date']).dt.year \n",
    "df = df.drop('Date', axis=1)\n",
    "\n",
    "group_cols = [ 'ScenarioID', 'Scenario', 'ObjectID', 'RunID', 'BA', \n",
    "                'Area', 'Type', 'Resource', 'Year', 'Emission' ]\n",
    "\n",
    "# Performing aggregations to get annual totals and values needed for computation of other columns\n",
    "df = df.groupby(group_cols, as_index=False).agg({'Released': 'sum',\n",
    "                            'TotalHeat': 'sum',\n",
    "                            'Cost': 'sum',\n",
    "                            'Generation': 'sum'})\n",
    "\n",
    "# Computing other columns (rates & averages)\n",
    "df['Release Rate (lb/mmBtu)'] = df.apply(lambda row: (row['Released'] / row['TotalHeat']) * 2000 if row['TotalHeat'] != 0 else 0, axis=1)\n",
    "df['Average Rate (lb/MWh)'] = df.apply(lambda row: (row['Released'] / row['Generation']) * 2 if row['Generation'] != 0 else 0, axis=1)\n",
    "df['Average Cost ($/MWh)'] = df.apply(lambda row: (row['Cost'] / row['Generation']) if row['Generation'] != 0 else 0, axis=1)\n",
    "\n",
    "# Drop columns that we don't need anymore\n",
    "df = df.drop(['ScenarioID', 'ObjectID', 'TotalHeat', 'Generation'], axis=1)\n",
    "\n",
    "df.to_excel('resource_annual_emissions.xlsx', index=False)"
   ]
  },
  {
   "cell_type": "code",
   "execution_count": null,
   "metadata": {},
   "outputs": [
    {
     "name": "stdout",
     "output_type": "stream",
     "text": [
      "  Scenario  RunID       Company  Year          Peak        MaxCap  \\\n",
      "0     MIP1      0  DTE Electric  2024  10205.667969  18578.808594   \n",
      "1     MIP1      0  DTE Electric  2025  10106.235352  19061.000000   \n",
      "2     MIP1      0  DTE Electric  2026  10112.901367  19652.224609   \n",
      "3     MIP1      0  DTE Electric  2027  10305.057617  22165.169922   \n",
      "4     MIP1      0  DTE Electric  2028  10402.216797  23515.767578   \n",
      "\n",
      "        FirmCap  NetCapImp        Energy   SalesEn  ...    CommitCost  \\\n",
      "0  11277.030273        0.0  42814.302979  0.020872  ...   8860.886593   \n",
      "1  12015.435547        0.0  43204.008545  0.028221  ...  10683.469537   \n",
      "2  11779.033203        0.0  43591.133301  0.027275  ...  12148.150416   \n",
      "3  13056.641602        0.0  45158.327148  0.026639  ...   7365.935393   \n",
      "4  12729.039062        0.0  46484.818848  0.027440  ...   6846.156715   \n",
      "\n",
      "       O&M Cost     FixedCost  SalesValue  Purchase Cost  AncSales  AncPurc  \\\n",
      "0  25651.664326    108.314507   -0.054240   89012.415108       NaN      NaN   \n",
      "1  32890.957070    583.781754    0.053965   22532.771346       NaN      NaN   \n",
      "2  46033.223544   8172.955269    0.434461   26041.555290       NaN      NaN   \n",
      "3  44460.887267  19004.406738   -0.227797   22774.499402       NaN      NaN   \n",
      "4  61356.337593  36263.437500   -0.078421   14255.997777       NaN      NaN   \n",
      "\n",
      "   Retail Sales  Retail Revenue    ExternCost  \n",
      "0  42814.303467             0.0  -8340.796590  \n",
      "1  43204.008301             0.0 -14347.929035  \n",
      "2  43591.133057             0.0 -16644.607056  \n",
      "3  45158.327148             0.0  67065.456787  \n",
      "4  46484.819336             0.0  72155.749512  \n",
      "\n",
      "[5 rows x 25 columns]\n"
     ]
    }
   ],
   "source": [
    "# Pulling the entire table from the database\n",
    "with engine_e.connect() as connection:\n",
    "    scenario_comp_ann_exp = pd.read_sql('SELECT * FROM ScenarioCompanyAnnualExport', connection)\n",
    "    \n",
    "\n",
    "\n",
    "desired_cols = ['Scenario', 'RunID', 'Company', 'Year', 'Peak', 'MaxCap', 'FirmCap',\n",
    "                'NetCapImp', 'Energy', 'SalesEn', 'PurcEn', 'Losses', 'NetGen', 'Curtailed',\n",
    "                'FuelCost', 'CommitCost', 'O&M Cost', 'FixedCost', 'SalesValue', 'Purchase Cost',\n",
    "                'AncSales', 'AncPurc', 'Retail Sales', 'Retail Revenue', 'ExternCost', ''\n",
    "                ]\n",
    "\n",
    "df = df.loc[:, desired_cols]\n",
    "\n",
    "print(df.head())"
   ]
  }
 ],
 "metadata": {
  "kernelspec": {
   "display_name": "myenv",
   "language": "python",
   "name": "python3"
  },
  "language_info": {
   "codemirror_mode": {
    "name": "ipython",
    "version": 3
   },
   "file_extension": ".py",
   "mimetype": "text/x-python",
   "name": "python",
   "nbconvert_exporter": "python",
   "pygments_lexer": "ipython3",
   "version": "3.12.9"
  }
 },
 "nbformat": 4,
 "nbformat_minor": 2
}
